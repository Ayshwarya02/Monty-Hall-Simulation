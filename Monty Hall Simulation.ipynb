{
 "cells": [
  {
   "cell_type": "code",
   "execution_count": 1,
   "id": "a714fc26",
   "metadata": {},
   "outputs": [],
   "source": [
    "import random\n",
    "from tkinter import StringVar, Label, Tk, Entry"
   ]
  },
  {
   "cell_type": "code",
   "execution_count": 2,
   "id": "374fc145",
   "metadata": {},
   "outputs": [
    {
     "data": {
      "text/plain": [
       "''"
      ]
     },
     "execution_count": 2,
     "metadata": {},
     "output_type": "execute_result"
    }
   ],
   "source": [
    "window = Tk()\n",
    "window.geometry(\"400x100\")\n",
    "window.title(\"Monty hall simulation\")\n",
    "window.resizable(0, 0)"
   ]
  },
  {
   "cell_type": "code",
   "execution_count": 3,
   "id": "47fd1ed4",
   "metadata": {},
   "outputs": [],
   "source": [
    "same_choice = StringVar()\n",
    "switched_choice = StringVar()\n",
    "same_choice.set(0)\n",
    "switched_choice.set(0)\n",
    "no_sample = Entry()\n",
    "Label(text=\"Same choice\").place(x=80, y=8)\n",
    "Label(text=\"Switched choice\").place(x=80, y=40)\n",
    "Label(textvariable=same_choice, font=(15)).place(x=180, y=8)\n",
    "Label(textvariable=switched_choice, font=(15)).place(x=180, y=40)\n",
    "no_sample.place(x=100, y=70)"
   ]
  },
  {
   "cell_type": "code",
   "execution_count": null,
   "id": "98c0f008",
   "metadata": {},
   "outputs": [],
   "source": [
    "def simulate(event):\n",
    "    same_choice_result = 0\n",
    "    switched_choice_result = 0\n",
    "    samples = int(no_sample.get())\n",
    "    doors = [\"gold\", \"goat\", \"bed\"]\n",
    "    for _ in range(samples):\n",
    "        simulated_doors = doors.copy()\n",
    "        random.shuffle(simulated_doors)\n",
    "        first_choice = random.choice(simulated_doors)\n",
    "        simulated_doors.remove(first_choice)\n",
    "        opened_door = (\n",
    "            simulated_doors[0] if simulated_doors[0] != \"gold\" else simulated_doors[1]\n",
    "        )\n",
    "        simulated_doors.remove(opened_door)\n",
    "        switched_second_choice = simulated_doors[0]\n",
    "        if first_choice == \"gold\":\n",
    "            same_choice_result += 1\n",
    "            same_choice.set(same_choice_result)\n",
    "        elif switched_second_choice == \"gold\":\n",
    "            switched_choice_result += 1\n",
    "            switched_choice.set(switched_choice_result)\n",
    "        else:\n",
    "            print(\"That's will never happed\")\n",
    "\n",
    "\n",
    "no_sample.bind(\"<Return>\", simulate)\n",
    "window.mainloop()"
   ]
  }
 ],
 "metadata": {
  "kernelspec": {
   "display_name": "Python 3",
   "language": "python",
   "name": "python3"
  },
  "language_info": {
   "codemirror_mode": {
    "name": "ipython",
    "version": 3
   },
   "file_extension": ".py",
   "mimetype": "text/x-python",
   "name": "python",
   "nbconvert_exporter": "python",
   "pygments_lexer": "ipython3",
   "version": "3.8.8"
  }
 },
 "nbformat": 4,
 "nbformat_minor": 5
}
